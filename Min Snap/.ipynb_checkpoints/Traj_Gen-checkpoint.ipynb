{
 "cells": [
  {
   "cell_type": "code",
   "execution_count": 2,
   "id": "75125e1c",
   "metadata": {},
   "outputs": [],
   "source": [
    "import numpy as np\n",
    "import matplotlib.pyplot as plt\n",
    "\n",
    "\n",
    "\n",
    "def fit_multi_segment_polynomial_trajectory(p_targets, yaw_targets): # 3x3, 1x3\n",
    "\n",
    "    p_targets = np.concatenate((p_targets, yaw_targets[np.newaxis, :]), 0) # if axis = 0, jus adds the new row of index 1 to index 0\n",
    "    m = multiple_waypoints(p_targets.shape[1] - 1) # no.of waypoints - ref target, 3 -1;\n",
    "\n",
    "    dims = p_targets.shape[0] # rows therefore no.of dimensions [x,y,z]\n",
    "    n_segments = p_targets.shape[1] # cols therefore no.of waypoints  \n",
    "\n",
    "    poly_coefficients = np.zeros((n_segments - 1, 8, dims))\n",
    "    for dim in range(dims):\n",
    "        b = rhs_generation(p_targets[dim, :]) # dim = row, col takes everything\n",
    "        poly_coefficients[:, :, dim] = np.fliplr(np.linalg.solve(m, b).reshape(n_segments - 1, 8))\n",
    "\n",
    "    return poly_coefficients\n",
    "\n",
    "\n"
   ]
  },
  {
   "cell_type": "markdown",
   "id": "8b0b3363",
   "metadata": {},
   "source": [
    "__LOLOLOLOL__"
   ]
  }
 ],
 "metadata": {
  "kernelspec": {
   "display_name": "Python 3 (ipykernel)",
   "language": "python",
   "name": "python3"
  },
  "language_info": {
   "codemirror_mode": {
    "name": "ipython",
    "version": 3
   },
   "file_extension": ".py",
   "mimetype": "text/x-python",
   "name": "python",
   "nbconvert_exporter": "python",
   "pygments_lexer": "ipython3",
   "version": "3.9.7"
  }
 },
 "nbformat": 4,
 "nbformat_minor": 5
}
